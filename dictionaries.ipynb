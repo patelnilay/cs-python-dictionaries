{
 "cells": [
  {
   "cell_type": "markdown",
   "metadata": {},
   "source": [
    "## Dictionaries in Python\n",
    "\n",
    "A very useful data type built into Python is the **dictionary**  \n",
    "\n",
    "\n",
    "Unlike sequences, which are indexed by a range of numbers, dictionaries are indexed by **keys**, which can be any type; strings and numbers can always be keys.  But, you can’t use lists as keys, since lists can be modified.\n",
    "\n",
    "It is best to think of a dictionary as an unordered set of **key: value** pairs, with the requirement that the keys are unique (no two can be the same within one dictionary). \n",
    "\n",
    "## Syntax of dictionaries\n",
    "\n",
    "A pair of curly braces creates an empty dictionary: {} \n",
    "\n",
    "``` myDict = {} # creates an empty dictionary data structure ```\n",
    "\n",
    "Placing a comma-separated list of **key:value** pairs within the braces adds initial key:value pairs to the dictionary\n",
    "\n",
    "``` birthdayDictionary = {\"Ana\": \"29/2\", \"Barb\" : \"12/4\", \"Charles\" : \"13/6\"} ```\n",
    "\n",
    "The **key** can then be used an you would an index in a list (ie within the square brackets), so\n",
    "\n",
    "``` birthdayDictionary[\"Ana\"] ```\n",
    "\n",
    "will return \"29/2\", while\n",
    "\n",
    "``` birthdayDictionary[\"Charles\"] ```\n",
    "\n",
    "will return \"13/6\""
   ]
  },
  {
   "cell_type": "code",
   "execution_count": null,
   "metadata": {},
   "outputs": [],
   "source": [
    "birthdayDictionary = {\"Ana\": \"29/2\", \"Barb\" : \"12/4\", \"Charles\" : \"13/6\"}\n",
    "# get Ana's birthday\n",
    "birthdayDictionary [\"Ana\"]\n",
    "#get Barb's birthday\n",
    "birthdayDictionary [\"Barb\"]\n",
    "#get Charles' birthday\n",
    "birthdayDictionary [\"Charles\"]"
   ]
  },
  {
   "cell_type": "markdown",
   "metadata": {},
   "source": [
    "## Adding key:value pairs to a dictionary\n",
    "\n",
    "This is as simple as:\n",
    "\n",
    "``` birthdayDictionary[\"Tina\"] = \"2/01\" ```"
   ]
  },
  {
   "cell_type": "code",
   "execution_count": null,
   "metadata": {},
   "outputs": [],
   "source": [
    "birthdayDictionary[\"Tina\"] = \"2/01\"\n",
    "\n",
    "# add 3 more birthdays to this \n",
    "birthdayDictionary.update({'Bob':\"23/6\",'Johnny':\"30/12\"})\n",
    "\n",
    "\n",
    "#what happens when you attempt to add a new key:value pair where the key is NOT unique??\n",
    "#it overides the old value to the new value\n",
    "\n",
    "\n"
   ]
  },
  {
   "cell_type": "markdown",
   "metadata": {},
   "source": [
    "## Using a loop to step through a dictionary\n",
    "\n",
    "A dictionary is a sequence so can be iterated through, as with a list."
   ]
  },
  {
   "cell_type": "code",
   "execution_count": null,
   "metadata": {},
   "outputs": [],
   "source": [
    "#first simple way to iterate through a dictionary\n",
    "for key in birthdayDictionary:\n",
    "    print(\"key= \", key, \" value= \", birthdayDictionary[key])\n",
    "\n",
    "\n",
    "#another way to print all the key:value pairs\n",
    "for key, value in birthdayDictionary.items():\n",
    "    print(key, \":\", value)\n"
   ]
  },
  {
   "cell_type": "markdown",
   "metadata": {},
   "source": [
    "## Testing whether a key is in a dictionary\n",
    "\n",
    "really each with the ``` in ``` operator"
   ]
  },
  {
   "cell_type": "code",
   "execution_count": null,
   "metadata": {},
   "outputs": [],
   "source": [
    "key = \"tina\"\n",
    "\n",
    "if key in birthdayDictionary:\n",
    "    print(\"yes its there!\")\n",
    "else:\n",
    "    print(\"the key \", key, \"does not exist in the birthday dictioanry\")"
   ]
  },
  {
   "cell_type": "code",
   "execution_count": null,
   "metadata": {},
   "outputs": [],
   "source": [
    "## Filling a dictionary with user input\n",
    "def fillDict():\n",
    "\n",
    "    newDict = {}\n",
    "    cont = 'y' # assume the user wants to run the loop at least once\n",
    "    while cont == 'y':\n",
    "        key=input(\"enter a new key - your friend's name. This must be unique!\")\n",
    "        val=input(\"enter a new value - that friend's favourite colour\")\n",
    "        newDict[key]=value\n",
    "        cont = input(\"do you want to continue? y/n\").lower()\n",
    "        \n",
    "    return newDict\n",
    "\n",
    "myDict=fillDict()"
   ]
  },
  {
   "cell_type": "markdown",
   "metadata": {},
   "source": [
    "## Task - query the dictionary\n",
    "\n",
    "Allow the user to enter the name of a friend and tell them that friend's favourite colour\n",
    "\n",
    "### extention - make your code robust\n",
    "\n",
    "An error could occur if a friend, who's name is not in the dictionary, is entered. Use a try/ec"
   ]
  },
  {
   "cell_type": "markdown",
   "metadata": {},
   "source": [
    "## Creating a dictionary with data from a CSV file"
   ]
  },
  {
   "cell_type": "code",
   "execution_count": null,
   "metadata": {},
   "outputs": [],
   "source": [
    "import csv\n",
    "\n",
    "def loadDictFromCSV():\n",
    "    #Sets up the file for reading\n",
    "    with open(\"languages.csv\",\"r\") as f:\n",
    "        reader=csv.reader(f)\n",
    "        #Where we're going to be storing the recipes dictionary\n",
    "        dictionary={}\n",
    "        for row in reader:\n",
    "            print(row) #debug - to see what this is, what data structure and how to access it\n",
    "            index = row[0]\n",
    "            value=row[1]\n",
    "            #Then stores the recipe in the dictionary under the recipe name\n",
    "            dictionary[index]=value\n",
    "        return dictionary\n",
    "    \n",
    "myLangDict = loadDictFromCSV()\n",
    "print(myLangDict)"
   ]
  },
  {
   "cell_type": "markdown",
   "metadata": {},
   "source": [
    "## Querying a dictionary"
   ]
  },
  {
   "cell_type": "code",
   "execution_count": null,
   "metadata": {},
   "outputs": [],
   "source": [
    "# allow the user to query the dictionary\n",
    "\n",
    "cont = 'y' # assume the user wants to run the loop at least once\n",
    "while cont == 'y':\n",
    "    key=input(\"the name of the programming language you want to know the author of\")\n",
    "    author = myLangDict[key]\n",
    "    print(\"the author of \", key, \" is \", author)\n",
    "    cont = input(\"do you want to find out another? y/n\").lower()\n",
    "\n",
    "\n",
    "# improve this code so that it gives and error message when the user enters an language incorrectly or one that does not \n",
    "# exisit in the dictionary - use try/except to catch the KeyError"
   ]
  },
  {
   "cell_type": "markdown",
   "metadata": {},
   "source": [
    "## references\n",
    "\n",
    "https://www.tutorialspoint.com/python/python_dictionary.htm\n",
    "\n",
    "https://docs.python.org/3/tutorial/datastructures.html"
   ]
  },
  {
   "cell_type": "markdown",
   "metadata": {},
   "source": [
    "## Task: Recipes\n",
    "\n",
    "Use the CSV file recipes.csv that you have been given\n",
    "The format is as follows:\n",
    "``` \n",
    "Name of recipe, Num of servings, ingredient1, amount1, unit1, ingredient2, amount2, unit2, .... .... .....\n",
    "Buttery Scones, 8, flour, 225, grams, sugar, 25, grams, milk, 150, ml, egg, 1, , butter, 55, grams, salt, 1, pinch \n",
    "```\n",
    "1) Write code that will read the recipe information into a dictionary. The key should be the name of the recipe and the value will be a list of ingredients like this:\n",
    "\n",
    "```\n",
    "{'Bolognaise sauce': [' 4', ' minced beef', ' 255', ' grams', ' olive oil', ' 2', ' tbsp', ' onion', ' 1', ' ', ' green pepper', '1', '', ' garlic', ' 1', ' clove', ' tinned tomatoes', ' 400', ' grams', ' red wine', ' 150', ' ml'], 'Buttery Scones': [' 8', ' flour', ' 225', ' grams', ' sugar', ' 25', ' grams', ' milk', ' 150', ' ml', ' egg', ' 1', ' ', ' butter', ' 55', ' grams', ' salt', ' 1', ' pinch'], 'Hollandaise Sauce': [' 2', ' vinegar', ' 3', ' tbsp', ' peppercorns', ' 6', ' ', ' bay leaf', ' 1', ' ', ' eggs', ' 2', ' ', ' butter', ' 125', ' grams'], 'Goats cheese tart': [' 12', ' puff pastry', ' 1 ', ' packet', \" goat's cheese\", ' 120', ' grams', ' figs', ' 4', ' ', ' honey', ' 25', ' ml']}\n",
    "\n",
    "```\n",
    "\n",
    "2) Now print out the recipe that the user wants to see. First just print the list, then try to print it in a more pleasing format\n",
    "\n",
    "3) Now allow the user to enter a new recipe. \n",
    "\n",
    "- First the name of the recipe, \n",
    "- then the number of servings\n",
    "- then the ingredients in 3 steps: name, amount, unit (which may be left empty)\n",
    "\n",
    "4) Now allow the user to enter the number of servings they want and write code to recalculate the amount of ingredients needed for that number of servings. \n"
   ]
  },
  {
   "cell_type": "markdown",
   "metadata": {},
   "source": [
    "## 2)"
   ]
  },
  {
   "cell_type": "code",
   "execution_count": 5,
   "metadata": {},
   "outputs": [
    {
     "name": "stdout",
     "output_type": "stream",
     "text": [
      "[{' pinch': None, ' ml': ' ', ' 25': ' 6', ' ': ' ', ' milk': ' bay leaf', ' egg': ' eggs', ' butter': ' butter', ' flour': ' vinegar', ' 225': ' 3', ' 1': None, ' 150': ' 1', ' grams': ' grams', ' sugar': ' peppercorns', ' 55': ' 125', ' salt': None, 'Buttery Scones': 'Hollandaise Sauce', ' 8': ' 2'}, {' pinch': ' grams', ' ml': ' ', ' 25': ' 2', ' ': '', ' milk': ' onion', ' egg': ' green pepper', ' butter': ' garlic', ' flour': ' minced beef', ' 225': ' 255', ' 1': ' 400', ' 150': ' 1', ' grams': ' clove', ' sugar': ' olive oil', ' 55': ' 1', None: [' red wine', ' 150', ' ml'], ' salt': ' tinned tomatoes', 'Buttery Scones': 'Bolognaise sauce', ' 8': ' 4'}, {' pinch': None, ' ml': ' ', ' 25': ' 120', ' ': ' ml', ' milk': ' figs', ' egg': ' honey', ' butter': None, ' flour': ' puff pastry', ' 225': ' 1 ', ' 1': None, ' 150': ' 4', ' grams': None, ' sugar': \" goat's cheese\", ' 55': None, ' salt': None, 'Buttery Scones': 'Goats cheese tart', ' 8': ' 12'}]\n"
     ]
    }
   ],
   "source": [
    "import csv\n",
    "reader = csv.DictReader(open('recipes.csv', \"r\"))\n",
    "dict_list = []\n",
    "for line in reader:\n",
    "    dict_list.append(line)\n",
    "\n",
    "\n",
    "print(dict_list)"
   ]
  },
  {
   "cell_type": "code",
   "execution_count": 6,
   "metadata": {},
   "outputs": [
    {
     "name": "stdout",
     "output_type": "stream",
     "text": [
      "{'Hollandaise Sauce': [' 2', ' vinegar', ' 3', ' tbsp', ' peppercorns', ' 6', ' ', ' bay leaf', ' 1', ' ', ' eggs', ' 2', ' ', ' butter', ' 125', ' grams'], 'Goats cheese tart': [' 12', ' puff pastry', ' 1 ', ' packet', \" goat's cheese\", ' 120', ' grams', ' figs', ' 4', ' ', ' honey', ' 25', ' ml'], 'Buttery Scones': [' 8', ' flour', ' 225', ' grams', ' sugar', ' 25', ' grams', ' milk', ' 150', ' ml', ' egg', ' 1', ' ', ' butter', ' 55', ' grams', ' salt', ' 1', ' pinch'], 'Bolognaise sauce': [' 4', ' minced beef', ' 255', ' grams', ' olive oil', ' 2', ' tbsp', ' onion', ' 1', ' ', ' green pepper', '1', '', ' garlic', ' 1', ' clove', ' tinned tomatoes', ' 400', ' grams', ' red wine', ' 150', ' ml']}\n"
     ]
    }
   ],
   "source": [
    "def loadRecipes():\n",
    "    #Sets up the file for reading\n",
    "    with open(\"recipes.csv\",\"r\") as f:\n",
    "        reader= csv.reader(f)\n",
    "        #Where we're going to be storing the recipes dictionary\n",
    "        recipes={}\n",
    "        for row in reader:\n",
    "            #Then stores the recipe in the dictionary under the recipe name\n",
    "            recipes[row[0]]=row[1:]\n",
    "        return recipes\n",
    "recipes=loadRecipes()\n",
    "print(recipes)"
   ]
  },
  {
   "cell_type": "code",
   "execution_count": 7,
   "metadata": {},
   "outputs": [
    {
     "name": "stdout",
     "output_type": "stream",
     "text": [
      "Recipe name: Hollandaise Sauce\n",
      "Servings: 5\n",
      " vinegar: 7.5  tbsp\n",
      " peppercorns: 15.0  \n",
      " bay leaf: 2.5  \n",
      " eggs: 5.0  \n",
      " butter: 312.5  grams\n"
     ]
    }
   ],
   "source": [
    "recipeName=input(\"Recipe name: \")\n",
    "#Keep requesting until the user gives a recipe name that exists\n",
    "while recipeName not in recipes:\n",
    "    recipeName=getString(\"Recipe name: \")\n",
    "#Get number of servings\n",
    "newNumberOfPeople=int(input(\"Servings: \"))\n",
    "#Have to take in parallel chunks of 3\n",
    "for i in range(1,len(recipes[recipeName]),3):\n",
    "    item=recipes[recipeName][i]\n",
    "    amount=recipes[recipeName][i+1]\n",
    "    unit=recipes[recipeName][i+2]\n",
    "    print(item+\": \"+str(float(amount)*float(newNumberOfPeople)/float(recipes[recipeName][0]))+\" \"+unit)"
   ]
  },
  {
   "cell_type": "code",
   "execution_count": 8,
   "metadata": {},
   "outputs": [
    {
     "data": {
      "text/plain": [
       "{'Bolognaise sauce': [' 4',\n",
       "  ' minced beef',\n",
       "  ' 255',\n",
       "  ' grams',\n",
       "  ' olive oil',\n",
       "  ' 2',\n",
       "  ' tbsp',\n",
       "  ' onion',\n",
       "  ' 1',\n",
       "  ' ',\n",
       "  ' green pepper',\n",
       "  '1',\n",
       "  '',\n",
       "  ' garlic',\n",
       "  ' 1',\n",
       "  ' clove',\n",
       "  ' tinned tomatoes',\n",
       "  ' 400',\n",
       "  ' grams',\n",
       "  ' red wine',\n",
       "  ' 150',\n",
       "  ' ml'],\n",
       " 'Buttery Scones': [' 8',\n",
       "  ' flour',\n",
       "  ' 225',\n",
       "  ' grams',\n",
       "  ' sugar',\n",
       "  ' 25',\n",
       "  ' grams',\n",
       "  ' milk',\n",
       "  ' 150',\n",
       "  ' ml',\n",
       "  ' egg',\n",
       "  ' 1',\n",
       "  ' ',\n",
       "  ' butter',\n",
       "  ' 55',\n",
       "  ' grams',\n",
       "  ' salt',\n",
       "  ' 1',\n",
       "  ' pinch'],\n",
       " 'Goats cheese tart': [' 12',\n",
       "  ' puff pastry',\n",
       "  ' 1 ',\n",
       "  ' packet',\n",
       "  \" goat's cheese\",\n",
       "  ' 120',\n",
       "  ' grams',\n",
       "  ' figs',\n",
       "  ' 4',\n",
       "  ' ',\n",
       "  ' honey',\n",
       "  ' 25',\n",
       "  ' ml'],\n",
       " 'Hollandaise Sauce': [' 2',\n",
       "  ' vinegar',\n",
       "  ' 3',\n",
       "  ' tbsp',\n",
       "  ' peppercorns',\n",
       "  ' 6',\n",
       "  ' ',\n",
       "  ' bay leaf',\n",
       "  ' 1',\n",
       "  ' ',\n",
       "  ' eggs',\n",
       "  ' 2',\n",
       "  ' ',\n",
       "  ' butter',\n",
       "  ' 125',\n",
       "  ' grams']}"
      ]
     },
     "execution_count": 8,
     "metadata": {},
     "output_type": "execute_result"
    }
   ],
   "source": [
    "loadRecipes()\n"
   ]
  }
 ],
 "metadata": {
  "kernelspec": {
   "display_name": "Python 3",
   "language": "python",
   "name": "python3"
  },
  "language_info": {
   "codemirror_mode": {
    "name": "ipython",
    "version": 3
   },
   "file_extension": ".py",
   "mimetype": "text/x-python",
   "name": "python",
   "nbconvert_exporter": "python",
   "pygments_lexer": "ipython3",
   "version": "3.5.2"
  }
 },
 "nbformat": 4,
 "nbformat_minor": 2
}
